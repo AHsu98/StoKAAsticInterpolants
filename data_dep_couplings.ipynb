{
 "cells": [
  {
   "cell_type": "code",
   "execution_count": 22,
   "metadata": {},
   "outputs": [],
   "source": [
    "import matplotlib.pyplot as plt\n",
    "import jax\n",
    "jax.config.update('jax_default_device',jax.devices()[-1])\n",
    "import jax.numpy as jnp\n",
    "import optax\n",
    "import jax\n",
    "import numpy as np\n",
    "import ot\n",
    "from stochastic_interpolant.neural_network import NeuralNetwork\n",
    "from stochastic_interpolant.dataloaders import (\n",
    "    DatasetSampler,GaussianReferenceSampler,\n",
    "    IndependenceCouplingSampler,build_trainloader,testloader_factory)\n",
    "from stochastic_interpolant.loss_functions import get_linear_interpolants,root_prod_gamma,root_prod_gammadot,get_loss_functions\n",
    "from stochastic_interpolant.data_generators import inf_train_gen\n",
    "# from stochastic_interpolant.model_training import train_model"
   ]
  },
  {
   "cell_type": "code",
   "execution_count": 8,
   "metadata": {},
   "outputs": [],
   "source": [
    "# Target sample\n",
    "num_target = 5000\n",
    "target_samples = inf_train_gen('2spirals',rng = 50,batch_size = num_target)"
   ]
  },
  {
   "cell_type": "code",
   "execution_count": 13,
   "metadata": {},
   "outputs": [],
   "source": [
    "# Reference Sample\n",
    "reference_samples = jax.random.normal(jax.random.PRNGKey(13334),(num_target,2))"
   ]
  },
  {
   "cell_type": "code",
   "execution_count": 19,
   "metadata": {},
   "outputs": [],
   "source": [
    "mini_batch_size = 100\n",
    "data_key = jax.random.PRNGKey(42)\n",
    "target_key, reference_key = jax.random.split(data_key,2)\n",
    "target_batch = jax.random.choice(target_key,target_samples,(mini_batch_size,))\n",
    "reference_batch = jax.random.choice(reference_key,reference_samples,(mini_batch_size,))"
   ]
  },
  {
   "cell_type": "code",
   "execution_count": 23,
   "metadata": {},
   "outputs": [],
   "source": [
    "M = ot.dist(target_batch,reference_batch,p=2)"
   ]
  },
  {
   "cell_type": "code",
   "execution_count": 25,
   "metadata": {},
   "outputs": [
    {
     "data": {
      "text/plain": [
       "(100, 100)"
      ]
     },
     "execution_count": 25,
     "metadata": {},
     "output_type": "execute_result"
    }
   ],
   "source": [
    "M.shape"
   ]
  },
  {
   "cell_type": "code",
   "execution_count": 26,
   "metadata": {},
   "outputs": [
    {
     "data": {
      "text/plain": [
       "Array([ 369.0374 ,  549.6625 , 1005.4695 ,  391.70386,  344.48224,\n",
       "        506.3252 ,  683.6517 , 1050.1572 ,  363.26294,  383.9378 ,\n",
       "       1009.8624 ,  352.19568,  422.4872 ,  393.25183,  382.6565 ,\n",
       "        764.4727 ,  360.61597, 1212.6416 ,  530.71106,  874.10406,\n",
       "        583.2994 ,  836.624  , 1108.693  ,  769.63293, 1142.071  ,\n",
       "        426.25732,  365.1642 ,  884.1506 , 1069.3484 ,  307.72604,\n",
       "        535.5749 ,  620.7322 ,  358.62256, 1194.4216 ,  266.0911 ,\n",
       "        935.0187 , 1018.1676 , 1189.8458 ,  492.63837,  349.62787,\n",
       "        507.22318,  520.49475, 1121.4202 ,  420.5481 ,  992.4385 ,\n",
       "        822.4968 ,  939.06885,  732.46716,  507.03778,  433.003  ,\n",
       "        555.6853 ,  255.8516 ,  367.66223,  366.97217,  857.36566,\n",
       "        785.0674 ,  327.9602 ,  487.1964 ,  452.13974,  762.114  ,\n",
       "        479.14502,  654.1726 ,  767.2874 ,  392.8618 ,  641.95764,\n",
       "        313.57074,  957.6579 ,  297.38544,  219.10406,  430.3553 ,\n",
       "        343.68054,  848.2037 ,  914.9475 ,  968.77783,  786.85767,\n",
       "       1141.7642 ,  276.2491 ,  356.32007,  438.22797,  438.22797,\n",
       "       1088.2549 ,  510.15295, 1221.2092 ,  810.28265,  931.4653 ,\n",
       "        602.22644, 1231.3904 ,  652.47894,  202.83675,  280.7942 ,\n",
       "        237.3565 ,  310.52298,  441.97968,  919.0432 ,  372.8511 ,\n",
       "        490.77435,  459.50885, 1197.8899 , 1207.0083 , 1231.7714 ],      dtype=float32)"
      ]
     },
     "execution_count": 26,
     "metadata": {},
     "output_type": "execute_result"
    }
   ],
   "source": [
    "M@jnp.ones(mini_batch_size)"
   ]
  },
  {
   "cell_type": "code",
   "execution_count": 27,
   "metadata": {},
   "outputs": [
    {
     "data": {
      "text/plain": [
       "Array([4.87128019e+00, 1.84214318e+00, 5.76710272e+00, 3.44439697e+00,\n",
       "       5.08630514e+00, 8.31590772e-01, 7.05637932e+00, 4.87010050e+00,\n",
       "       7.37586141e-01, 1.14021790e+00, 7.94805110e-01, 6.41036034e-01,\n",
       "       3.31614685e+00, 5.75101471e+00, 4.77346992e+00, 7.03291607e+00,\n",
       "       3.62846589e+00, 7.05816507e-01, 2.72464848e+00, 2.80247879e+00,\n",
       "       3.67493129e+00, 3.87888193e+00, 1.44077539e+00, 7.74126887e-01,\n",
       "       6.16751254e-01, 2.24060225e+00, 1.89575529e+00, 7.65278530e+00,\n",
       "       6.41045189e+00, 2.57034707e+00, 2.83603525e+00, 5.23129344e-01,\n",
       "       3.12386918e+00, 1.60587370e-01, 8.51220798e+00, 3.84350598e-01,\n",
       "       8.27554703e+00, 1.06159439e+01, 4.96510553e+00, 7.70366764e+00,\n",
       "       2.76179171e+00, 2.78559756e+00, 3.54905152e+00, 1.04129314e-02,\n",
       "       3.49837303e+00, 4.36041057e-01, 4.13526249e+00, 2.00629950e+00,\n",
       "       1.27573907e+00, 2.93755436e+00, 3.93534994e+00, 4.86815786e+00,\n",
       "       3.46180153e+00, 5.48256779e+00, 1.16407661e+01, 3.44702625e+00,\n",
       "       7.13138962e+00, 9.99457932e+00, 4.34682417e+00, 1.10883236e-01,\n",
       "       1.56531048e+00, 7.96379471e+00, 2.63402462e+00, 4.61063957e+00,\n",
       "       3.26509213e+00, 1.06159439e+01, 1.40599003e+01, 1.09307051e+00,\n",
       "       5.43882942e+00, 1.33937037e+00, 3.12080526e+00, 3.08365583e+00,\n",
       "       2.79005075e+00, 8.45969868e+00, 4.25949049e+00, 8.45045507e-01,\n",
       "       3.82158566e+00, 1.25271106e+00, 1.05530024e-01, 8.48311305e-01,\n",
       "       6.92835808e-01, 6.24838114e-01, 2.59756804e+00, 1.11935596e+01,\n",
       "       4.67385912e+00, 5.40217924e+00, 2.18582630e+00, 4.28032875e+00,\n",
       "       1.60165727e-01, 4.60739994e+00, 3.59943342e+00, 2.97797155e+00,\n",
       "       5.27865410e-01, 2.06807542e+00, 2.37989068e+00, 1.95957696e+00,\n",
       "       4.11860037e+00, 1.19753957e+00, 5.28079987e+00, 3.44702625e+00],      dtype=float32)"
      ]
     },
     "execution_count": 27,
     "metadata": {},
     "output_type": "execute_result"
    }
   ],
   "source": [
    "M[0,:]"
   ]
  },
  {
   "cell_type": "code",
   "execution_count": null,
   "metadata": {},
   "outputs": [],
   "source": []
  }
 ],
 "metadata": {
  "kernelspec": {
   "display_name": "jax-metal",
   "language": "python",
   "name": "python3"
  },
  "language_info": {
   "codemirror_mode": {
    "name": "ipython",
    "version": 3
   },
   "file_extension": ".py",
   "mimetype": "text/x-python",
   "name": "python",
   "nbconvert_exporter": "python",
   "pygments_lexer": "ipython3",
   "version": "3.12.3"
  }
 },
 "nbformat": 4,
 "nbformat_minor": 2
}
