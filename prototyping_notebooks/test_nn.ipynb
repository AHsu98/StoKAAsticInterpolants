{
 "cells": [
  {
   "cell_type": "code",
   "execution_count": 10,
   "metadata": {},
   "outputs": [],
   "source": [
    "import jax\n",
    "import equinox as eqx\n",
    "import jax.numpy as jnp\n",
    "\n",
    "class NeuralNetwork(eqx.Module):\n",
    "    layers: list\n",
    "    extra_bias: jax.Array\n",
    "\n",
    "    def __init__(self, key):\n",
    "        key1, key2, key3 = jax.random.split(key, 3)\n",
    "        # These contain trainable parameters.\n",
    "        self.layers = [eqx.nn.Linear(2, 8, key=key1),\n",
    "                       eqx.nn.Linear(8, 8, key=key2),\n",
    "                       eqx.nn.Linear(8, 2, key=key3)]\n",
    "        # This is also a trainable parameter.\n",
    "        self.extra_bias = jax.numpy.ones(2)\n",
    "\n",
    "    def __call__(self, x):\n",
    "        for layer in self.layers[:-1]:\n",
    "            x = jax.nn.relu(layer(x))\n",
    "        return self.layers[-1](x) + self.extra_bias\n",
    "\n",
    "@jax.jit  # compile this function to make it run fast.\n",
    "@jax.grad  # differentiate all floating-point arrays in `model`.\n",
    "def loss(model, x, y):\n",
    "    pred_y = jax.vmap(model)(x)  # vectorise the model over a batch of data\n",
    "    return jax.numpy.mean((y - pred_y) ** 2)  # L2 loss\n",
    "\n",
    "x_key, y_key, model_key = jax.random.split(jax.random.PRNGKey(0), 3)\n",
    "# Example data\n",
    "x = jax.random.normal(x_key, (100, 2))\n",
    "y = jax.random.normal(y_key, (100, 2))\n",
    "model = NeuralNetwork(model_key)\n"
   ]
  },
  {
   "cell_type": "code",
   "execution_count": 11,
   "metadata": {},
   "outputs": [
    {
     "ename": "IndentationError",
     "evalue": "unexpected indent (3285081436.py, line 5)",
     "output_type": "error",
     "traceback": [
      "\u001b[0;36m  Cell \u001b[0;32mIn[11], line 5\u001b[0;36m\u001b[0m\n\u001b[0;31m    new_model = jax.tree_util.tree_map(lambda m, g: m - learning_rate * g, model, grads)\u001b[0m\n\u001b[0m    ^\u001b[0m\n\u001b[0;31mIndentationError\u001b[0m\u001b[0;31m:\u001b[0m unexpected indent\n"
     ]
    }
   ],
   "source": [
    "# Compute gradients\n",
    "grads = loss(model, x, y)\n",
    "# Perform gradient descent\n",
    "learning_rate = 0.1\n",
    "new_model = jax.tree_util.tree_map(lambda m, g: m - learning_rate * g, model, grads)"
   ]
  },
  {
   "cell_type": "code",
   "execution_count": 9,
   "metadata": {},
   "outputs": [
    {
     "data": {
      "text/plain": [
       "NeuralNetwork(\n",
       "  layers=[\n",
       "    Linear(\n",
       "      weight=f32[8,2],\n",
       "      bias=f32[8],\n",
       "      in_features=2,\n",
       "      out_features=8,\n",
       "      use_bias=True\n",
       "    ),\n",
       "    Linear(\n",
       "      weight=f32[8,8],\n",
       "      bias=f32[8],\n",
       "      in_features=8,\n",
       "      out_features=8,\n",
       "      use_bias=True\n",
       "    ),\n",
       "    Linear(\n",
       "      weight=f32[2,8],\n",
       "      bias=f32[2],\n",
       "      in_features=8,\n",
       "      out_features=2,\n",
       "      use_bias=True\n",
       "    )\n",
       "  ],\n",
       "  extra_bias=f32[2]\n",
       ")"
      ]
     },
     "execution_count": 9,
     "metadata": {},
     "output_type": "execute_result"
    }
   ],
   "source": [
    "grads"
   ]
  },
  {
   "cell_type": "code",
   "execution_count": 6,
   "metadata": {},
   "outputs": [
    {
     "data": {
      "text/plain": [
       "Array([0.94002867, 1.0102818 ], dtype=float32)"
      ]
     },
     "execution_count": 6,
     "metadata": {},
     "output_type": "execute_result"
    }
   ],
   "source": [
    "new_model(x[0])"
   ]
  },
  {
   "cell_type": "code",
   "execution_count": 7,
   "metadata": {},
   "outputs": [
    {
     "data": {
      "text/plain": [
       "Array([[ 0.45058283, -0.5241236 ],\n",
       "       [ 0.47175983, -0.9505155 ],\n",
       "       [-0.274354  , -0.3354187 ],\n",
       "       [-1.3399609 ,  0.51744205],\n",
       "       [ 0.04267281, -2.5185785 ],\n",
       "       [-1.8371971 , -1.3193125 ],\n",
       "       [-1.3888389 ,  0.01685155],\n",
       "       [-0.84184444,  0.4296381 ],\n",
       "       [ 0.11726868,  1.4158473 ],\n",
       "       [ 0.41861644,  0.5193756 ],\n",
       "       [-0.66662365, -1.6508355 ],\n",
       "       [-0.90173376, -1.5103353 ],\n",
       "       [-0.51253945,  1.4452225 ],\n",
       "       [ 1.2667034 ,  0.17484404],\n",
       "       [ 1.1796353 , -1.2071054 ],\n",
       "       [-0.9602053 ,  0.55503404],\n",
       "       [ 0.791516  , -1.345151  ],\n",
       "       [-0.20621188, -1.420752  ],\n",
       "       [-0.37009287,  2.0824673 ],\n",
       "       [ 0.435246  ,  0.42489448],\n",
       "       [-0.4851248 ,  0.32981548],\n",
       "       [-0.46110278, -0.31829634],\n",
       "       [ 0.6464708 ,  0.644891  ],\n",
       "       [-0.56586397, -2.2312171 ],\n",
       "       [-0.36772147,  0.34090295],\n",
       "       [-0.8522557 , -2.5428352 ],\n",
       "       [-0.27524272, -0.831592  ],\n",
       "       [ 0.6775455 , -0.01105266],\n",
       "       [ 0.17004964, -0.44702116],\n",
       "       [-0.08190171, -0.5630655 ],\n",
       "       [ 1.4937845 ,  0.59043914],\n",
       "       [ 1.7968583 , -0.89178365],\n",
       "       [ 0.574141  , -1.2909615 ],\n",
       "       [-1.9836303 ,  1.5723108 ],\n",
       "       [-0.83542585, -0.8055159 ],\n",
       "       [-1.9888202 ,  1.770805  ],\n",
       "       [ 0.13259457,  0.9359477 ],\n",
       "       [ 0.0380763 , -0.11697667],\n",
       "       [-0.05398465,  0.23899192],\n",
       "       [ 1.2249006 ,  1.1532836 ],\n",
       "       [-0.3670457 , -0.64647055],\n",
       "       [-2.3677628 ,  0.17251123],\n",
       "       [-0.12073682, -0.6091987 ],\n",
       "       [-0.21344225,  0.8933589 ],\n",
       "       [-0.7046265 , -0.52213734],\n",
       "       [ 2.0685894 , -1.1045847 ],\n",
       "       [ 0.37642935, -1.970172  ],\n",
       "       [ 0.5288381 ,  0.7225063 ],\n",
       "       [-0.26418608,  2.052253  ],\n",
       "       [-1.0579389 , -0.3743086 ],\n",
       "       [ 0.17036341,  0.3494262 ],\n",
       "       [-0.5584905 ,  0.33627784],\n",
       "       [ 1.0816047 ,  0.9356426 ],\n",
       "       [ 0.05028376,  0.2351168 ],\n",
       "       [-0.04712798,  0.9312387 ],\n",
       "       [-0.41732004, -0.6864433 ],\n",
       "       [ 0.62980473, -0.9148451 ],\n",
       "       [-0.19551525,  1.2717927 ],\n",
       "       [-0.20833465, -0.42538658],\n",
       "       [ 1.8294483 , -1.2217283 ],\n",
       "       [-1.2376705 ,  0.13274348],\n",
       "       [ 0.6871831 , -0.38720125],\n",
       "       [ 0.4645729 ,  0.77290803],\n",
       "       [ 0.3359794 , -0.81383145],\n",
       "       [ 0.64930344, -0.77552   ],\n",
       "       [ 1.1301445 ,  0.26678818],\n",
       "       [ 0.65148497,  1.2896909 ],\n",
       "       [ 0.44381785, -1.2381669 ],\n",
       "       [ 0.12497553, -0.60867965],\n",
       "       [ 1.0380188 , -0.71530414],\n",
       "       [-0.42321458,  0.17019363],\n",
       "       [-0.38238683, -0.98108935],\n",
       "       [ 0.37021592, -0.35420713],\n",
       "       [-0.11711989, -1.9317212 ],\n",
       "       [-0.06309736, -0.08749972],\n",
       "       [ 1.1632795 , -0.31684035],\n",
       "       [-0.23753674, -0.550458  ],\n",
       "       [-0.20160747, -0.5752741 ],\n",
       "       [ 0.70462257,  0.8989643 ],\n",
       "       [-0.80174625, -0.08913672],\n",
       "       [ 0.0924785 , -0.2684044 ],\n",
       "       [ 0.65172887, -0.82667863],\n",
       "       [ 1.162123  ,  1.7537826 ],\n",
       "       [-0.18660055,  0.7354991 ],\n",
       "       [ 0.52117926, -0.43439254],\n",
       "       [-1.988162  , -1.01019   ],\n",
       "       [-0.47168756,  0.02126165],\n",
       "       [ 2.0838647 ,  1.1226506 ],\n",
       "       [ 1.5880234 ,  0.6929836 ],\n",
       "       [ 1.0523148 , -0.6015522 ],\n",
       "       [-0.23051405, -0.5185002 ],\n",
       "       [ 0.22029357,  1.6161731 ],\n",
       "       [-1.3825725 , -0.29498678],\n",
       "       [ 1.6000247 ,  0.2602561 ],\n",
       "       [ 1.1319344 ,  1.1103576 ],\n",
       "       [-2.5005457 , -1.8230641 ],\n",
       "       [ 0.32751718,  0.12427116],\n",
       "       [ 0.7781792 ,  0.81364894],\n",
       "       [ 0.86704624,  1.0775295 ],\n",
       "       [-0.2444283 , -0.68687224]], dtype=float32)"
      ]
     },
     "execution_count": 7,
     "metadata": {},
     "output_type": "execute_result"
    }
   ],
   "source": []
  }
 ],
 "metadata": {
  "kernelspec": {
   "display_name": "stoch_interp",
   "language": "python",
   "name": "python3"
  },
  "language_info": {
   "codemirror_mode": {
    "name": "ipython",
    "version": 3
   },
   "file_extension": ".py",
   "mimetype": "text/x-python",
   "name": "python",
   "nbconvert_exporter": "python",
   "pygments_lexer": "ipython3",
   "version": "3.12.3"
  }
 },
 "nbformat": 4,
 "nbformat_minor": 2
}
