{
 "cells": [
  {
   "cell_type": "code",
   "execution_count": 1,
   "metadata": {},
   "outputs": [],
   "source": [
    "import jax.numpy as jnp\n",
    "import jax\n",
    "import matplotlib.pyplot as plt\n",
    "import equinox as eqx"
   ]
  },
  {
   "cell_type": "code",
   "execution_count": 2,
   "metadata": {},
   "outputs": [],
   "source": [
    "num_target = 1000\n",
    "key = jax.random.PRNGKey(10)\n",
    "target_samples = jax.random.uniform(key,shape = (10 * num_target,2),minval = -1,maxval = 1)\n",
    "target_samples = target_samples[jnp.sum(jnp.abs(target_samples),1)>0.5][:num_target]\n",
    "\n",
    "num_reference = 1000\n",
    "key = jax.random.PRNGKey(15)\n",
    "reference_samples = jax.random.normal(key,shape = (num_reference,2))\n"
   ]
  },
  {
   "cell_type": "code",
   "execution_count": 3,
   "metadata": {},
   "outputs": [
    {
     "name": "stdout",
     "output_type": "stream",
     "text": [
      "\u001b[0;31mSignature:\u001b[0m \u001b[0mjax\u001b[0m\u001b[0;34m.\u001b[0m\u001b[0mrandom\u001b[0m\u001b[0;34m.\u001b[0m\u001b[0mshuffle\u001b[0m\u001b[0;34m(\u001b[0m\u001b[0mkey\u001b[0m\u001b[0;34m:\u001b[0m \u001b[0;34m'KeyArrayLike'\u001b[0m\u001b[0;34m,\u001b[0m \u001b[0mx\u001b[0m\u001b[0;34m:\u001b[0m \u001b[0;34m'ArrayLike'\u001b[0m\u001b[0;34m,\u001b[0m \u001b[0maxis\u001b[0m\u001b[0;34m:\u001b[0m \u001b[0;34m'int'\u001b[0m \u001b[0;34m=\u001b[0m \u001b[0;36m0\u001b[0m\u001b[0;34m)\u001b[0m \u001b[0;34m->\u001b[0m \u001b[0;34m'Array'\u001b[0m\u001b[0;34m\u001b[0m\u001b[0;34m\u001b[0m\u001b[0m\n",
      "\u001b[0;31mDocstring:\u001b[0m\n",
      "Shuffle the elements of an array uniformly at random along an axis.\n",
      "\n",
      "Args:\n",
      "  key: a PRNG key used as the random key.\n",
      "  x: the array to be shuffled.\n",
      "  axis: optional, an int axis along which to shuffle (default 0).\n",
      "\n",
      "Returns:\n",
      "  A shuffled version of x.\n",
      "\u001b[0;31mFile:\u001b[0m      ~/opt/anaconda3/envs/stoch_interp/lib/python3.12/site-packages/jax/_src/random.py\n",
      "\u001b[0;31mType:\u001b[0m      function"
     ]
    }
   ],
   "source": [
    "jax.random.shuffle?"
   ]
  },
  {
   "cell_type": "code",
   "execution_count": 9,
   "metadata": {},
   "outputs": [],
   "source": [
    "def get_trainloader():\n",
    "    for i in range(10**6):\n",
    "        trainloader_key = jax.random.PRNGKey(i)\n",
    "        shuffle_ref_key,shuffle_target_key,normal_key,t_key = jax.random.split(trainloader_key,4)\n",
    "        ref_batch = jax.random.permutation(shuffle_ref_key,reference_samples)\n",
    "        target_batch = jax.random.permutation(shuffle_target_key,target_samples)\n",
    "        t_vals = jax.random.uniform(t_key,(len(ref_batch),1))\n",
    "        z = jax.random.uniform(t_key,ref_batch.shape)\n",
    "        yield t_vals,ref_batch,target_batch,z"
   ]
  },
  {
   "cell_type": "code",
   "execution_count": 10,
   "metadata": {},
   "outputs": [],
   "source": [
    "a = get_trainloader()"
   ]
  },
  {
   "cell_type": "code",
   "execution_count": 11,
   "metadata": {},
   "outputs": [],
   "source": [
    "t,x,y,z = next(a)"
   ]
  },
  {
   "cell_type": "code",
   "execution_count": 15,
   "metadata": {},
   "outputs": [
    {
     "data": {
      "text/plain": [
       "Array([[0.7956687 , 0.05179608],\n",
       "       [0.00287819, 0.42221785],\n",
       "       [0.74910176, 0.4567448 ],\n",
       "       ...,\n",
       "       [0.85822594, 0.7483438 ],\n",
       "       [0.72045755, 0.03744674],\n",
       "       [0.6263758 , 0.8568218 ]], dtype=float32)"
      ]
     },
     "execution_count": 15,
     "metadata": {},
     "output_type": "execute_result"
    }
   ],
   "source": [
    "z"
   ]
  },
  {
   "cell_type": "code",
   "execution_count": 40,
   "metadata": {},
   "outputs": [],
   "source": [
    "class NeuralNetwork(eqx.Module):\n",
    "    layers: list\n",
    "    extra_bias: jax.Array\n",
    "\n",
    "    def __init__(self, key):\n",
    "        key1, key2, key3 = jax.random.split(key, 3)\n",
    "        # These contain trainable parameters.\n",
    "        self.layers = [eqx.nn.Linear(3, 32, key=key1),\n",
    "                       eqx.nn.Linear(32, 32, key=key2),\n",
    "                       eqx.nn.Linear(32, 2, key=key3)]\n",
    "        # This is also a trainable parameter.\n",
    "        self.extra_bias = jax.numpy.ones(2)\n",
    "\n",
    "    def __call__(self, x):\n",
    "        for layer in self.layers[:-1]:\n",
    "            x = jax.nn.relu(layer(x))\n",
    "        return self.layers[-1](x) + self.extra_bias\n",
    "\n",
    "def I(t,x,y):\n",
    "    return (1-t)*x + t * y\n",
    "\n",
    "def It(t,x,y):\n",
    "    return y-x\n",
    "\n",
    "def gamma(t):\n",
    "    return jnp.sqrt(2*t*(1-t))\n",
    "\n",
    "gammadot = jax.vmap(jax.vmap(jax.grad(gamma)))\n",
    "\n",
    "\n",
    "@jax.jit  # compile this function to make it run fast.\n",
    "@jax.grad  # differentiate all floating-point arrays in `model`.\n",
    "def loss(model,t, x, y,z):\n",
    "    tx = jnp.hstack([t,x])\n",
    "    bhat = jax.vmap(model)(tx)  # vectorise the model over a batch of data\n",
    "    dot_term = jnp.sum((It(t,x,y)+gammadot(t)*z) * bhat,axis = 1)\n",
    "    return jnp.mean(jnp.sum(bhat**2,axis=1)) - jnp.mean(dot_term)  # L2 loss\n"
   ]
  },
  {
   "cell_type": "code",
   "execution_count": 41,
   "metadata": {},
   "outputs": [],
   "source": [
    "t = jax.random.uniform(jax.random.PRNGKey(3),(1000,1))\n",
    "z = jax.random.normal(jax.random.PRNGKey(5),(1000,2))\n",
    "model = NeuralNetwork(jax.random.PRNGKey(0))\n"
   ]
  },
  {
   "cell_type": "code",
   "execution_count": 42,
   "metadata": {},
   "outputs": [
    {
     "data": {
      "text/plain": [
       "NeuralNetwork(\n",
       "  layers=[\n",
       "    Linear(\n",
       "      weight=f32[32,3],\n",
       "      bias=f32[32],\n",
       "      in_features=3,\n",
       "      out_features=32,\n",
       "      use_bias=True\n",
       "    ),\n",
       "    Linear(\n",
       "      weight=f32[32,32],\n",
       "      bias=f32[32],\n",
       "      in_features=32,\n",
       "      out_features=32,\n",
       "      use_bias=True\n",
       "    ),\n",
       "    Linear(\n",
       "      weight=f32[2,32],\n",
       "      bias=f32[2],\n",
       "      in_features=32,\n",
       "      out_features=2,\n",
       "      use_bias=True\n",
       "    )\n",
       "  ],\n",
       "  extra_bias=f32[2]\n",
       ")"
      ]
     },
     "execution_count": 42,
     "metadata": {},
     "output_type": "execute_result"
    }
   ],
   "source": [
    "loss(model,t,reference_samples,target_samples,z)"
   ]
  },
  {
   "cell_type": "code",
   "execution_count": 45,
   "metadata": {},
   "outputs": [],
   "source": [
    "\n",
    "\n",
    "loss(model,)"
   ]
  },
  {
   "cell_type": "code",
   "execution_count": null,
   "metadata": {},
   "outputs": [],
   "source": [
    "x_key, y_key, model_key = jax.random.split(jax.random.PRNGKey(0), 3)\n",
    "model = NeuralNetwork(model_key)\n",
    "\n",
    "# Example data\n",
    "x = jax.random.normal(x_key, (100, 2))\n",
    "y = jax.random.normal(y_key, (100, 2))\n"
   ]
  }
 ],
 "metadata": {
  "kernelspec": {
   "display_name": "stoch_interp",
   "language": "python",
   "name": "python3"
  },
  "language_info": {
   "codemirror_mode": {
    "name": "ipython",
    "version": 3
   },
   "file_extension": ".py",
   "mimetype": "text/x-python",
   "name": "python",
   "nbconvert_exporter": "python",
   "pygments_lexer": "ipython3",
   "version": "3.12.3"
  }
 },
 "nbformat": 4,
 "nbformat_minor": 2
}
