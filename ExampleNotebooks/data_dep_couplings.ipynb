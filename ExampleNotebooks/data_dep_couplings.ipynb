{
 "cells": [
  {
   "cell_type": "code",
   "execution_count": 40,
   "metadata": {},
   "outputs": [],
   "source": [
    "import matplotlib.pyplot as plt\n",
    "import jax\n",
    "jax.config.update('jax_default_device',jax.devices()[-1])\n",
    "import jax.numpy as jnp\n",
    "import optax\n",
    "import jax\n",
    "import numpy as np\n",
    "import ot\n",
    "import ot.plot\n",
    "import matplotlib.pylab as pl\n",
    "from stochastic_interpolant.neural_network import NeuralNetwork\n",
    "from stochastic_interpolant.dataloaders import (\n",
    "    DatasetSampler,GaussianReferenceSampler,\n",
    "    IndependenceCouplingSampler,build_trainloader,testloader_factory)\n",
    "from stochastic_interpolant.loss_functions import get_linear_interpolants,root_prod_gamma,root_prod_gammadot,get_loss_functions\n",
    "from stochastic_interpolant.data_generators import inf_train_gen\n",
    "# from stochastic_interpolant.model_training import train_model"
   ]
  },
  {
   "cell_type": "code",
   "execution_count": 2,
   "metadata": {},
   "outputs": [],
   "source": [
    "# Target sample\n",
    "num_target = 5000\n",
    "target_samples = inf_train_gen('2spirals',rng = 50,batch_size = num_target)"
   ]
  },
  {
   "cell_type": "code",
   "execution_count": 3,
   "metadata": {},
   "outputs": [],
   "source": [
    "# Reference Sample\n",
    "reference_samples = jax.random.normal(jax.random.PRNGKey(13334),(num_target,2))"
   ]
  },
  {
   "cell_type": "code",
   "execution_count": 86,
   "metadata": {},
   "outputs": [],
   "source": [
    "mini_batch_size = 10\n",
    "data_key = jax.random.PRNGKey(42)\n",
    "target_key, reference_key = jax.random.split(data_key,2)\n",
    "target_batch = jax.random.choice(target_key,target_samples,(mini_batch_size,))\n",
    "reference_batch = jax.random.choice(reference_key,reference_samples,(mini_batch_size,))"
   ]
  },
  {
   "cell_type": "code",
   "execution_count": 87,
   "metadata": {},
   "outputs": [],
   "source": [
    "M = ot.dist(target_batch,reference_batch,p=2)"
   ]
  },
  {
   "cell_type": "code",
   "execution_count": 98,
   "metadata": {},
   "outputs": [],
   "source": [
    "a = jnp.histogram(reference_batch, bins=mini_batch_size)[0] / mini_batch_size\n",
    "b = jnp.histogram(target_batch, bins=mini_batch_size)[0] / mini_batch_size\n",
    "a, b = jnp.ones((mini_batch_size,)) / mini_batch_size, jnp.ones((mini_batch_size,)) / mini_batch_size \n",
    "G0 = ot.emd(a,b,M)"
   ]
  },
  {
   "cell_type": "code",
   "execution_count": 103,
   "metadata": {},
   "outputs": [
    {
     "data": {
      "text/plain": [
       "Array([[-3.1537066 , -0.53389204],\n",
       "       [-1.1906644 ,  2.3355985 ],\n",
       "       [-0.09997434,  1.2778164 ],\n",
       "       [ 1.5813961 ,  0.82488084],\n",
       "       [-1.1399406 , -0.12918158],\n",
       "       [ 0.13874875,  2.703299  ],\n",
       "       [ 1.2809498 ,  2.7111254 ],\n",
       "       [ 1.5106928 ,  2.523389  ],\n",
       "       [ 1.7001884 ,  0.7455472 ],\n",
       "       [-0.16731815, -0.38818535]], dtype=float32)"
      ]
     },
     "execution_count": 103,
     "metadata": {},
     "output_type": "execute_result"
    }
   ],
   "source": [
    "G0@target_batch*10"
   ]
  },
  {
   "cell_type": "code",
   "execution_count": 102,
   "metadata": {},
   "outputs": [
    {
     "data": {
      "text/plain": [
       "Array([[-0.09997433,  1.2778164 ],\n",
       "       [-0.16731815, -0.38818535],\n",
       "       [ 1.5813961 ,  0.82488084],\n",
       "       [-1.1399406 , -0.12918158],\n",
       "       [ 1.7001883 ,  0.7455472 ],\n",
       "       [ 0.13874875,  2.7032988 ],\n",
       "       [ 1.2809498 ,  2.7111251 ],\n",
       "       [-3.1537066 , -0.53389204],\n",
       "       [ 1.5106928 ,  2.523389  ],\n",
       "       [-1.1906644 ,  2.3355985 ]], dtype=float32)"
      ]
     },
     "execution_count": 102,
     "metadata": {},
     "output_type": "execute_result"
    }
   ],
   "source": [
    "target_batch"
   ]
  },
  {
   "cell_type": "code",
   "execution_count": null,
   "metadata": {},
   "outputs": [],
   "source": []
  }
 ],
 "metadata": {
  "kernelspec": {
   "display_name": "jax-metal",
   "language": "python",
   "name": "python3"
  },
  "language_info": {
   "codemirror_mode": {
    "name": "ipython",
    "version": 3
   },
   "file_extension": ".py",
   "mimetype": "text/x-python",
   "name": "python",
   "nbconvert_exporter": "python",
   "pygments_lexer": "ipython3",
   "version": "3.12.3"
  }
 },
 "nbformat": 4,
 "nbformat_minor": 2
}
